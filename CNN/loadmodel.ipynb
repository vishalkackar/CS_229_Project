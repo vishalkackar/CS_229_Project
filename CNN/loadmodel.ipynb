{
 "cells": [
  {
   "cell_type": "markdown",
   "id": "22e1aa48-9c85-459a-9c1b-20a18b8bc0e7",
   "metadata": {
    "tags": []
   },
   "source": [
    "## Importing Libraries and Functions"
   ]
  },
  {
   "cell_type": "code",
   "execution_count": 1,
   "id": "cb3d49f3-c56f-41f2-9618-e508f3cf28e0",
   "metadata": {},
   "outputs": [
    {
     "name": "stderr",
     "output_type": "stream",
     "text": [
      "2022-12-05 18:59:35.164522: I tensorflow/core/platform/cpu_feature_guard.cc:193] This TensorFlow binary is optimized with oneAPI Deep Neural Network Library (oneDNN) to use the following CPU instructions in performance-critical operations:  AVX2 FMA\n",
      "To enable them in other operations, rebuild TensorFlow with the appropriate compiler flags.\n"
     ]
    }
   ],
   "source": [
    "import os\n",
    "import numpy as np\n",
    "import cv2\n",
    "from glob import glob\n",
    "import tensorflow as tf\n",
    "import matplotlib.pyplot as plt\n",
    "from sklearn.model_selection import train_test_split\n",
    "import math\n",
    "\n",
    "from tensorflow.keras.layers import Conv2D, Activation, BatchNormalization\n",
    "from tensorflow.keras.layers import UpSampling2D, Input, Concatenate\n",
    "from tensorflow.keras.models import Model\n",
    "from tensorflow.keras.applications import MobileNetV2\n",
    "from tensorflow.keras.callbacks import EarlyStopping, ReduceLROnPlateau\n",
    "from tensorflow.keras.metrics import Recall, Precision\n",
    "from tensorflow.keras import backend as K"
   ]
  },
  {
   "cell_type": "code",
   "execution_count": 2,
   "id": "1933e46a-a674-428a-8b1e-ab281ffd90b0",
   "metadata": {},
   "outputs": [
    {
     "name": "stdout",
     "output_type": "stream",
     "text": [
      "TensorFlow Version:  2.10.0\n"
     ]
    }
   ],
   "source": [
    "print(\"TensorFlow Version: \", tf.__version__)"
   ]
  },
  {
   "cell_type": "code",
   "execution_count": 3,
   "id": "e5a83f76-250d-4664-a421-805702132d49",
   "metadata": {},
   "outputs": [],
   "source": [
    "np.random.seed(42)\n",
    "tf.random.set_seed(42)"
   ]
  },
  {
   "cell_type": "markdown",
   "id": "30803269-5dfa-4a4c-a354-fac66d1cc82e",
   "metadata": {},
   "source": [
    "## Hyperparameters"
   ]
  },
  {
   "cell_type": "code",
   "execution_count": 4,
   "id": "89f124eb-9a03-416f-be2c-61307edcabb5",
   "metadata": {},
   "outputs": [],
   "source": [
    "IMAGE_SIZE = 16\n",
    "EPOCHS = 60\n",
    "BATCH = 10\n",
    "LR = 1e-4\n",
    "\n",
    "PATH = \"/Users/shirleychen/Documents/Fall2022/CS229/dataset2/model/\""
   ]
  },
  {
   "cell_type": "markdown",
   "id": "b07dd2ad-2583-4362-b7bc-fdeb59855d0d",
   "metadata": {},
   "source": [
    "## Dataset"
   ]
  },
  {
   "cell_type": "code",
   "execution_count": 5,
   "id": "87dbbc3a-b9f8-4026-8fd3-2093be7256fd",
   "metadata": {},
   "outputs": [],
   "source": [
    "def load_data(path, split=0.1):\n",
    "    images = sorted(glob(os.path.join(path, \"images/*\")))\n",
    "    masks = sorted(glob(os.path.join(path, \"maskedlabels2/*\")))\n",
    "    \n",
    "    total_size = len(images)\n",
    "    print(total_size)\n",
    "    valid_size = int(split * total_size)\n",
    "    test_size = int(split * total_size)\n",
    "\n",
    "    train_x, valid_x = train_test_split(images, test_size=valid_size, random_state=42)\n",
    "    train_y, valid_y = train_test_split(masks, test_size=valid_size, random_state=42)\n",
    "\n",
    "    train_x, test_x = train_test_split(train_x, test_size=test_size, random_state=42)\n",
    "    train_y, test_y = train_test_split(train_y, test_size=test_size, random_state=42)\n",
    "\n",
    "    return (train_x, train_y), (valid_x, valid_y), (test_x, test_y)"
   ]
  },
  {
   "cell_type": "code",
   "execution_count": 6,
   "id": "6b165c9d-97cb-4da5-b4dd-064700ea7ab3",
   "metadata": {},
   "outputs": [],
   "source": [
    "def read_image(path):\n",
    "    path = path.decode()\n",
    "    x = cv2.imread(path, cv2.IMREAD_COLOR)\n",
    "    x = cv2.resize(x, (IMAGE_SIZE, IMAGE_SIZE))\n",
    "    x = x/255.0\n",
    "    return x\n",
    "\n",
    "def read_mask(path):\n",
    "    path = path.decode()\n",
    "    x = cv2.imread(path, cv2.IMREAD_GRAYSCALE)\n",
    "    x = cv2.resize(x, (IMAGE_SIZE, IMAGE_SIZE))\n",
    "    x = x/255.0\n",
    "    x = np.expand_dims(x, axis=-1)\n",
    "    return x"
   ]
  },
  {
   "cell_type": "code",
   "execution_count": 7,
   "id": "ab32ea9c-b980-4a39-b990-7cb637f066e1",
   "metadata": {},
   "outputs": [],
   "source": [
    "def tf_parse(x, y):\n",
    "    def _parse(x, y):\n",
    "        x = read_image(x)\n",
    "        y = read_mask(y)\n",
    "        return x, y\n",
    "\n",
    "    x, y = tf.numpy_function(_parse, [x, y], [tf.float64, tf.float64])\n",
    "    x.set_shape([IMAGE_SIZE, IMAGE_SIZE, 3])\n",
    "    y.set_shape([IMAGE_SIZE, IMAGE_SIZE, 1])\n",
    "    return x, y\n",
    "\n",
    "def tf_dataset(x, y, batch=8):\n",
    "    dataset = tf.data.Dataset.from_tensor_slices((x, y))\n",
    "    dataset = dataset.map(tf_parse)\n",
    "    dataset = dataset.batch(batch)\n",
    "    dataset = dataset.repeat()\n",
    "    return dataset"
   ]
  },
  {
   "cell_type": "code",
   "execution_count": 8,
   "id": "d13be021-5f47-4e34-9e92-f34cd60ee320",
   "metadata": {},
   "outputs": [
    {
     "name": "stdout",
     "output_type": "stream",
     "text": [
      "16386\n",
      "Training data:  13110\n",
      "Validation data:  1638\n",
      "Testing data:  1638\n"
     ]
    }
   ],
   "source": [
    "(train_x, train_y), (valid_x, valid_y), (test_x, test_y) = load_data(PATH)\n",
    "\n",
    "print(\"Training data: \", len(train_x))\n",
    "print(\"Validation data: \", len(valid_x))\n",
    "print(\"Testing data: \", len(test_x))"
   ]
  },
  {
   "cell_type": "code",
   "execution_count": 9,
   "id": "655f84dd-3ec0-4ce0-9833-50b740d5d82c",
   "metadata": {},
   "outputs": [],
   "source": [
    "def read_and_rgb(x):\n",
    "    x = cv2.imread(x)\n",
    "    x = cv2.cvtColor(x, cv2.COLOR_BGR2RGB)\n",
    "    return x"
   ]
  },
  {
   "cell_type": "markdown",
   "id": "45a4efe9-3299-4a8a-9f4c-7641929c7d51",
   "metadata": {},
   "source": [
    "## Model"
   ]
  },
  {
   "cell_type": "code",
   "execution_count": 10,
   "id": "ae4e4c9b-6158-4e27-ade1-d5b906b39b62",
   "metadata": {},
   "outputs": [],
   "source": [
    "def model():\n",
    "    inputs = Input(shape=(IMAGE_SIZE, IMAGE_SIZE, 3), name=\"input_image\")\n",
    "    \n",
    "    encoder = MobileNetV2(input_tensor=inputs, weights=\"imagenet\", include_top=False, alpha=0.35)\n",
    "    skip_connection_names = [\"input_image\", \"block_1_expand_relu\", \"block_3_expand_relu\", \"block_6_expand_relu\"]\n",
    "    encoder_output = encoder.get_layer(\"block_13_expand_relu\").output\n",
    "    \n",
    "    f = [16, 32, 48, 64]\n",
    "    x = encoder_output\n",
    "    for i in range(1, len(skip_connection_names)+1, 1):\n",
    "        x_skip = encoder.get_layer(skip_connection_names[-i]).output\n",
    "        x = UpSampling2D((2, 2))(x)\n",
    "        x = Concatenate()([x, x_skip])\n",
    "        \n",
    "        x = Conv2D(f[-i], (3, 3), padding=\"same\")(x)\n",
    "        x = BatchNormalization()(x)\n",
    "        x = Activation(\"relu\")(x)\n",
    "        \n",
    "        x = Conv2D(f[-i], (3, 3), padding=\"same\")(x)\n",
    "        x = BatchNormalization()(x)\n",
    "        x = Activation(\"relu\")(x)\n",
    "        \n",
    "    x = Conv2D(1, (1, 1), padding=\"same\")(x)\n",
    "    x = Activation(\"sigmoid\")(x)\n",
    "    \n",
    "    model = Model(inputs, x)\n",
    "    return model"
   ]
  },
  {
   "cell_type": "code",
   "execution_count": 11,
   "id": "99d46c57-5c3d-4415-828e-424cc8e94dc1",
   "metadata": {},
   "outputs": [
    {
     "name": "stdout",
     "output_type": "stream",
     "text": [
      "WARNING:tensorflow:`input_shape` is undefined or non-square, or `rows` is not in [96, 128, 160, 192, 224]. Weights for input shape (224, 224) will be loaded as the default.\n"
     ]
    },
    {
     "name": "stderr",
     "output_type": "stream",
     "text": [
      "2022-12-05 18:59:42.832304: I tensorflow/core/platform/cpu_feature_guard.cc:193] This TensorFlow binary is optimized with oneAPI Deep Neural Network Library (oneDNN) to use the following CPU instructions in performance-critical operations:  AVX2 FMA\n",
      "To enable them in other operations, rebuild TensorFlow with the appropriate compiler flags.\n"
     ]
    },
    {
     "data": {
      "text/plain": [
       "<tensorflow.python.checkpoint.checkpoint.CheckpointLoadStatus at 0x7fd9bafb27f0>"
      ]
     },
     "execution_count": 11,
     "metadata": {},
     "output_type": "execute_result"
    }
   ],
   "source": [
    "model = model()\n",
    "model.load_weights('./CNN_model_trouble')"
   ]
  },
  {
   "cell_type": "markdown",
   "id": "67d9469f-183b-4fad-9bbd-8df3e82fa2a8",
   "metadata": {},
   "source": [
    "## Metrics"
   ]
  },
  {
   "cell_type": "code",
   "execution_count": 12,
   "id": "b9d1e805-9680-4c88-8b36-2c564728f96a",
   "metadata": {},
   "outputs": [],
   "source": [
    "smooth = 1e-15\n",
    "def dice_coef(y_true, y_pred):\n",
    "    y_true = tf.keras.layers.Flatten()(y_true)\n",
    "    y_pred = tf.keras.layers.Flatten()(y_pred)\n",
    "    intersection = tf.reduce_sum(y_true * y_pred)\n",
    "    return (2. * intersection + smooth) / (tf.reduce_sum(y_true) + tf.reduce_sum(y_pred) + smooth)\n",
    "\n",
    "def dice_loss(y_true, y_pred):\n",
    "    return 1.0 - dice_coef(y_true, y_pred)\n",
    "\n",
    "def pixel_accuracy(y_true, y_pred):\n",
    "    y_true = tf.keras.layers.Flatten()(y_true)\n",
    "    y_pred = tf.keras.layers.Flatten()(y_pred)\n",
    "    z = y_true == y_pred\n",
    "    z_tot = np.sum(z)\n",
    "    per = z_tot/len(y_true)\n",
    "    return per"
   ]
  },
  {
   "cell_type": "code",
   "execution_count": 13,
   "id": "2eafb7c2-f23d-48bf-b40b-a0ef064b3abb",
   "metadata": {},
   "outputs": [],
   "source": [
    "opt = tf.keras.optimizers.Nadam(LR)\n",
    "metrics = [dice_coef, Recall(), Precision()]\n",
    "model.compile(loss=dice_loss, optimizer=opt, metrics=metrics)"
   ]
  },
  {
   "cell_type": "markdown",
   "id": "43cded72-3b0e-4b43-815b-85f6d88e35ec",
   "metadata": {},
   "source": [
    "## Evaluation"
   ]
  },
  {
   "cell_type": "code",
   "execution_count": 14,
   "id": "baf7446c-26c2-4df7-b88c-b13e8356d1d3",
   "metadata": {},
   "outputs": [],
   "source": [
    "test_dataset = tf_dataset(test_x, test_y, batch=BATCH)\n",
    "\n",
    "test_steps = (len(test_x)//BATCH)\n",
    "if len(test_x) % BATCH != 0:\n",
    "    test_steps += 1\n",
    "\n",
    "# model.evaluate(test_dataset, steps=test_steps)"
   ]
  },
  {
   "cell_type": "code",
   "execution_count": 15,
   "id": "5715aa2e",
   "metadata": {},
   "outputs": [
    {
     "name": "stdout",
     "output_type": "stream",
     "text": [
      "[ 1  2  3  4  5  6  7  8  9 10 11 12 13 14 15 16 17 18 19 20 21 22 23 24\n",
      " 25 26]\n"
     ]
    },
    {
     "data": {
      "text/plain": [
       "<matplotlib.legend.Legend at 0x7fd9bb9b8700>"
      ]
     },
     "execution_count": 15,
     "metadata": {},
     "output_type": "execute_result"
    },
    {
     "data": {
      "image/png": "[encoded data removed]",
      "text/plain": [
       "<Figure size 432x288 with 1 Axes>"
      ]
     },
     "metadata": {
      "needs_background": "light"
     },
     "output_type": "display_data"
    }
   ],
   "source": [
    "training_hist = np.load('training_hist.npy', allow_pickle = True)\n",
    "training_hist = training_hist.tolist()\n",
    "epoch = np.arange(len(training_hist['loss']))+1\n",
    "print(epoch)\n",
    "plt.figure()\n",
    "plt.plot(epoch,training_hist['loss'],epoch,training_hist['val_loss'])\n",
    "plt.legend(['Training Error','Validation Error'])"
   ]
  },
  {
   "cell_type": "markdown",
   "id": "64534f55-ddcb-4b40-acf9-d118fe1d1e8b",
   "metadata": {},
   "source": [
    "## Results"
   ]
  },
  {
   "cell_type": "code",
   "execution_count": 16,
   "id": "2d895745-cb76-486b-804f-b1a998fef1d6",
   "metadata": {},
   "outputs": [],
   "source": [
    "def read_image(path):\n",
    "    x = cv2.imread(path, cv2.IMREAD_COLOR)\n",
    "    x = cv2.cvtColor(x, cv2.COLOR_BGR2RGB)\n",
    "    x = cv2.resize(x, (IMAGE_SIZE, IMAGE_SIZE))\n",
    "    x = x/255.0\n",
    "    return x\n",
    "\n",
    "def read_mask(path):\n",
    "    x = cv2.imread(path, cv2.IMREAD_GRAYSCALE)\n",
    "    x = cv2.resize(x, (IMAGE_SIZE, IMAGE_SIZE))\n",
    "    x = np.expand_dims(x, axis=-1)\n",
    "    x = x/255.0\n",
    "    return x"
   ]
  },
  {
   "cell_type": "code",
   "execution_count": 17,
   "id": "2c3dba47-91c0-4544-8121-c7a9393188a0",
   "metadata": {},
   "outputs": [],
   "source": [
    "def mask_parse(mask):\n",
    "    mask = np.squeeze(mask)\n",
    "    mask = [mask, mask, mask]\n",
    "    mask = np.transpose(mask, (1, 2, 0))\n",
    "    return mask"
   ]
  },
  {
   "cell_type": "code",
   "execution_count": 18,
   "id": "db11167a-aad1-401a-ada0-f4efb95feaf5",
   "metadata": {},
   "outputs": [],
   "source": [
    "# for i, (x, y) in enumerate(zip(test_x[:10], test_y[:10])):\n",
    "#     x = read_image(x)\n",
    "#     y = read_mask(y)\n",
    "#     y_pred = model.predict(np.expand_dims(x, axis=0))#[0] > 0.5\n",
    "#     h, w, _ = x.shape\n",
    "#     white_line = np.ones((h, 10, 3))\n",
    "\n",
    "#     all_images = [\n",
    "#         x, white_line,\n",
    "#         mask_parse(y), white_line,\n",
    "#         mask_parse(y_pred)\n",
    "#     ]\n",
    "#     image = np.concatenate(all_images, axis=1)\n",
    "    \n",
    "#     fig = plt.figure(figsize=(12, 12))\n",
    "#     a = fig.add_subplot(1, 1, 1)\n",
    "#     imgplot = plt.imshow(image)"
   ]
  },
  {
   "cell_type": "code",
   "execution_count": 19,
   "id": "40b91507",
   "metadata": {},
   "outputs": [],
   "source": [
    "def mul(x):\n",
    "    x = np.ceil(x*255)\n",
    "    x = np.reshape(x,(IMAGE_SIZE, IMAGE_SIZE))\n",
    "    return x"
   ]
  },
  {
   "cell_type": "code",
   "execution_count": 20,
   "id": "6917e4e7",
   "metadata": {},
   "outputs": [],
   "source": [
    "def to_rgb(x):\n",
    "    y = np.zeros((IMAGE_SIZE,IMAGE_SIZE,3))\n",
    "    for i in range(IMAGE_SIZE):\n",
    "        for j in range(IMAGE_SIZE):\n",
    "            if x[i,j] == 0:\n",
    "                y[i,j,:] = [0,0,0]\n",
    "            elif x[i,j] == 64:\n",
    "                y[i,j,:] = [64,64,64]\n",
    "            elif x[i,j] == 128:\n",
    "                y[i,j,:] = [128,128,128]\n",
    "            elif x[i,j] == 192:\n",
    "                y[i,j,:] = [192,192,192]\n",
    "            else:\n",
    "                y[i,j,:] = [255,255,255]\n",
    "    return y\n",
    "def to_rgb2(x):\n",
    "    y = np.zeros((IMAGE_SIZE,IMAGE_SIZE,3))\n",
    "    for i in range(IMAGE_SIZE):\n",
    "        for j in range(IMAGE_SIZE):\n",
    "            if x[i,j] == 0:\n",
    "                y[i,j,:] = [0,0,0]\n",
    "            elif x[i,j] == 1:\n",
    "                y[i,j,:] = [255,0,0]\n",
    "            elif x[i,j] == 2:\n",
    "                y[i,j,:] = [0,255,0]\n",
    "            elif x[i,j] == 3:\n",
    "                y[i,j,:] = [0,0,255]\n",
    "            else:\n",
    "                y[i,j,:] = [255,255,255]\n",
    "    return y"
   ]
  },
  {
   "cell_type": "code",
   "execution_count": 21,
   "id": "1e6f64c3",
   "metadata": {},
   "outputs": [],
   "source": [
    "def accuracy(x,y):\n",
    "    z = x == y\n",
    "    trues = np.sum(z)\n",
    "    percent = trues/(256*256*3)\n",
    "    return percent"
   ]
  },
  {
   "cell_type": "code",
   "execution_count": 22,
   "id": "26236608",
   "metadata": {},
   "outputs": [
    {
     "name": "stdout",
     "output_type": "stream",
     "text": [
      "1/1 [==============================] - 1s 685ms/step\n",
      "[0.47058824 0.54901961 0.58823529 0.70588235 0.7372549  1.        ]\n",
      "[0.99904346 0.99905926 0.99907994 0.9990817  0.99908984 0.9990903\n",
      " 0.999112   0.999115   0.999116   0.9991289  0.99913555 0.99914247\n",
      " 0.99915135 0.9991543  0.9991629  0.9991645  0.9991646  0.99917156\n",
      " 0.9991774  0.9991784  0.99917907 0.9991806  0.99918646 0.99918795\n",
      " 0.9991887  0.9991919  0.9991937  0.99919856 0.99920547 0.99920624\n",
      " 0.9992072  0.9992078  0.99921215 0.99921364 0.9992155  0.9992287\n",
      " 0.9992324  0.99923617 0.9992382  0.9992388  0.99924225 0.99924374\n",
      " 0.9992449  0.9992451  0.9992453  0.9992473  0.9992488  0.9992516\n",
      " 0.9992517  0.99925256 0.99925494 0.999256   0.99925697 0.9992578\n",
      " 0.9992585  0.99926233 0.99926305 0.9992642  0.99926573 0.99926716\n",
      " 0.9992701  0.9992747  0.9992769  0.99927735 0.99927765 0.9992783\n",
      " 0.99927896 0.99928707 0.99928796 0.999288   0.9992934  0.9992959\n",
      " 0.999297   0.9992996  0.9993031  0.9993034  0.9993041  0.9993058\n",
      " 0.9993078  0.9993079  0.99930793 0.9993088  0.99930966 0.999311\n",
      " 0.99931216 0.9993126  0.99931794 0.9993183  0.9993238  0.9993249\n",
      " 0.999326   0.9993265  0.9993295  0.9993333  0.99933606 0.99933714\n",
      " 0.99934506 0.9993472  0.99934864 0.999352   0.99935246 0.99935395\n",
      " 0.99935544 0.9993611  0.9993617  0.9993619  0.99936515 0.999367\n",
      " 0.9993705  0.99937296 0.9993741  0.9993784  0.9993789  0.99938154\n",
      " 0.99938583 0.9993865  0.99938995 0.9993902  0.9993937  0.9993949\n",
      " 0.9993951  0.99939615 0.99940073 0.9994008  0.9994061  0.99940634\n",
      " 0.9994122  0.99941474 0.9994195  0.99942064 0.9994218  0.9994235\n",
      " 0.9994261  0.9994296  0.9994318  0.9994347  0.9994381  0.99943984\n",
      " 0.99944174 0.99944425 0.9994447  0.9994455  0.9994483  0.9994515\n",
      " 0.99945414 0.99946153 0.99946314 0.9994659  0.9994733  0.99947494\n",
      " 0.99947584 0.9994823  0.9994923  0.9994932  0.999494   0.999499\n",
      " 0.9995065  0.9995089  0.9995135  0.9995144  0.9995154  0.9995184\n",
      " 0.9995185  0.9995193  0.9995194  0.9995217  0.99952734 0.99952847\n",
      " 0.9995291  0.99953276 0.9995338  0.9995566  0.99955773 0.999561\n",
      " 0.9995687  0.99958825 0.9995899  0.9996294  0.99964625 0.9997114\n",
      " 0.9997479  0.9997553  0.9997601  0.9997667  0.9997918  0.99979603\n",
      " 0.9998123  0.9998174  0.99982464 0.99983966 0.9998526  0.9998579\n",
      " 0.9998623  0.9998638  0.99987286 0.99987453 0.9998753  0.99987906\n",
      " 0.9998839  0.999886   0.99988836 0.9998885  0.9998901  0.9998905\n",
      " 0.999895   0.99990124 0.99991024 0.999911   0.9999112  0.9999115\n",
      " 0.9999123  0.9999131  0.9999154  0.9999161  0.99991643 0.9999173\n",
      " 0.9999177  0.99991786 0.9999183  0.99991834 0.9999188  0.9999197\n",
      " 0.9999203  0.999921   0.9999223  0.99992275 0.9999255  0.9999259\n",
      " 0.99992645 0.99992734 0.9999277  0.9999281  0.9999288  0.999929\n",
      " 0.9999293  0.9999299  0.9999301  0.9999302  0.9999303  0.9999318\n",
      " 0.99993426 0.9999348  0.9999359  0.99993694 0.9999388  0.9999402\n",
      " 0.99994206 0.99994326 0.999944   0.9999443  0.99994445 0.9999493\n",
      " 0.9999495  0.9999516  0.99995744 0.99996936]\n",
      "(16, 16, 1)\n"
     ]
    },
    {
     "data": {
      "text/plain": [
       "<matplotlib.image.AxesImage at 0x7fd9badefaf0>"
      ]
     },
     "execution_count": 22,
     "metadata": {},
     "output_type": "execute_result"
    },
    {
     "data": {
      "image/png": "[encoded data removed]",
      "text/plain": [
       "<Figure size 432x288 with 1 Axes>"
      ]
     },
     "metadata": {
      "needs_background": "light"
     },
     "output_type": "display_data"
    },
    {
     "data": {
      "image/png": "[encoded data removed]",
      "text/plain": [
       "<Figure size 432x288 with 1 Axes>"
      ]
     },
     "metadata": {
      "needs_background": "light"
     },
     "output_type": "display_data"
    }
   ],
   "source": [
    "x = read_image(test_x[64])\n",
    "y = read_mask(test_y[64])\n",
    "b = np.repeat(y, 3, axis=2)\n",
    "y_pred = model.predict(np.expand_dims(x, axis=0))\n",
    "print(np.unique(y))\n",
    "print(np.unique(y_pred))\n",
    "y_pred = np.reshape(y_pred,[IMAGE_SIZE,IMAGE_SIZE,1])\n",
    "print(y_pred.shape)\n",
    "c = np.repeat(y_pred, 3, axis=2)\n",
    "plt.figure()\n",
    "plt.imshow(c)\n",
    "plt.figure()\n",
    "plt.imshow(b)\n",
    "# y = mul(y)\n",
    "# y = to_rgb(y)\n",
    "# y_pred = model.predict(np.expand_dims(x, axis=0))\n",
    "# y_pred = mul(y_pred)\n",
    "# y_pred = to_rgb2(y_pred)"
   ]
  },
  {
   "cell_type": "code",
   "execution_count": 23,
   "id": "c1214b9a",
   "metadata": {},
   "outputs": [
    {
     "name": "stdout",
     "output_type": "stream",
     "text": [
      "2\n"
     ]
    }
   ],
   "source": [
    "print(1+1)"
   ]
  },
  {
   "cell_type": "code",
   "execution_count": 24,
   "id": "ed9d6e6a-c82f-46f9-9e98-7cafea35cd28",
   "metadata": {},
   "outputs": [
    {
     "name": "stdout",
     "output_type": "stream",
     "text": [
      "1/1 [==============================] - 0s 20ms/step\n",
      "1/1 [==============================] - 0s 19ms/step\n",
      "1/1 [==============================] - 0s 19ms/step\n",
      "1/1 [==============================] - 0s 21ms/step\n"
     ]
    },
    {
     "data": {
      "text/plain": [
       "0.0"
      ]
     },
     "execution_count": 24,
     "metadata": {},
     "output_type": "execute_result"
    },
    {
     "data": {
      "image/png": "[encoded data removed]",
      "text/plain": [
       "<Figure size 864x864 with 1 Axes>"
      ]
     },
     "metadata": {
      "needs_background": "light"
     },
     "output_type": "display_data"
    },
    {
     "data": {
      "image/png": "[encoded data removed]",
      "text/plain": [
       "<Figure size 864x864 with 1 Axes>"
      ]
     },
     "metadata": {
      "needs_background": "light"
     },
     "output_type": "display_data"
    },
    {
     "data": {
      "image/png": "[encoded data removed]",
      "text/plain": [
       "<Figure size 864x864 with 1 Axes>"
      ]
     },
     "metadata": {
      "needs_background": "light"
     },
     "output_type": "display_data"
    },
    {
     "data": {
      "image/png": "[encoded data removed]",
      "text/plain": [
       "<Figure size 864x864 with 1 Axes>"
      ]
     },
     "metadata": {
      "needs_background": "light"
     },
     "output_type": "display_data"
    }
   ],
   "source": [
    "acc = []\n",
    "for i, (x, y) in enumerate(zip(test_x[16:20], test_y[16:20])):\n",
    "    x = read_image(x)\n",
    "    y = read_mask(y)\n",
    "    y = np.repeat(y, 3, axis=2)\n",
    "#    y = mul(y)\n",
    "#    y = to_rgb(y)\n",
    "    y_pred = model.predict(np.expand_dims(x, axis=0))\n",
    "    y_pred = np.reshape(y_pred,[IMAGE_SIZE,IMAGE_SIZE,1])\n",
    "    y_pred = np.repeat(y_pred, 3, axis=2)\n",
    "#    y_pred = mul(y_pred)\n",
    "#    y_pred = to_rgb2(y_pred)\n",
    "#     plt.figure()\n",
    "#     plt.imshow(x)\n",
    "#     plt.figure()\n",
    "#     plt.imshow(y)\n",
    "#     plt.figure()\n",
    "#     plt.imshow(y_pred)\n",
    "    h, w, _ = x.shape\n",
    "    white_line = np.ones((h, 10, 3))\n",
    "\n",
    "    all_images = [\n",
    "        x, white_line,\n",
    "        y, white_line,\n",
    "        y_pred\n",
    "    ]\n",
    "    image = np.concatenate(all_images, axis=1)\n",
    "    \n",
    "    acc.append(accuracy(y,y_pred))\n",
    "    \n",
    "    fig = plt.figure(figsize=(12, 12))\n",
    "    a = fig.add_subplot(1, 1, 1)\n",
    "    imgplot = plt.imshow(image)\n",
    "\n",
    "np.mean(acc)"
   ]
  },
  {
   "cell_type": "code",
   "execution_count": null,
   "id": "90ae0052",
   "metadata": {},
   "outputs": [],
   "source": []
  },
  {
   "cell_type": "code",
   "execution_count": null,
   "id": "c78d4492",
   "metadata": {},
   "outputs": [],
   "source": []
  }
 ],
 "metadata": {
  "kernelspec": {
   "display_name": "Python 3 (ipykernel)",
   "language": "python",
   "name": "python3"
  },
  "language_info": {
   "codemirror_mode": {
    "name": "ipython",
    "version": 3
   },
   "file_extension": ".py",
   "mimetype": "text/x-python",
   "name": "python",
   "nbconvert_exporter": "python",
   "pygments_lexer": "ipython3",
   "version": "3.9.12"
  }
 },
 "nbformat": 4,
 "nbformat_minor": 5
}
