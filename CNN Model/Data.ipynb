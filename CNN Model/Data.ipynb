{
 "cells": [
  {
   "cell_type": "code",
   "execution_count": 1,
   "id": "f4d29c82",
   "metadata": {},
   "outputs": [
    {
     "name": "stdout",
     "output_type": "stream",
     "text": [
      "{'Name': ['Dice_coef_arr_high_sat_line.npy', 'Dice_coef_arr_med_dead_gauss.npy', 'Dice_coef_arr_low_sat_gauss.npy', 'Dice_coef_arr_med_dead_line.npy', 'Dice_coef_arr_high_sat_gauss.npy', 'Dice_coef_arr_med_sat_gauss.npy', 'Dice_coef_arr_low_dead_line.npy', 'Dice_coef_arr_low _dead_gauss.npy', 'Dice_coef_arr_high_dead_line.npy', 'Dice_coef_arr_clump.npy', 'Dice_coef_arr_low_sat_line.npy', 'Dice_coef_arr_med_sat_line.npy', 'Dice_coef_arr_high_dead_gauss.npy'], 'Data': [array([0.5827279 , 0.5331366 , 0.77272016, 0.92723805, 0.78410363,\n",
      "       0.6992054 , 0.6706152 , 0.50823647, 0.6187506 , 0.88608366,\n",
      "       0.8480255 , 0.8477169 , 0.9502451 , 0.8278341 , 0.7982629 ,\n",
      "       0.82815945, 0.50147575, 0.7783577 , 0.95255584, 0.9226674 ,\n",
      "       0.52579165, 0.8408793 , 0.6809424 , 0.7987399 ], dtype=float32), array([0.59135693, 0.8508946 , 0.9826109 , 0.9632038 , 0.93599504,\n",
      "       0.7618721 , 0.52313995, 0.9322742 , 0.9546799 , 0.93381256,\n",
      "       0.87098473, 0.9475819 , 0.9569183 , 0.8436849 , 0.82894707,\n",
      "       0.9100045 , 0.7742747 , 0.8660356 , 0.9638481 , 0.9443908 ,\n",
      "       0.96083987, 0.8631853 , 0.9017357 , 0.8240165 ], dtype=float32), array([0.6242191 , 0.94368976, 0.9962699 , 0.96408963, 0.978036  ,\n",
      "       0.8135497 , 0.52325433, 0.9452032 , 0.9584071 , 0.9533736 ,\n",
      "       0.86780393, 0.9707733 , 0.95325935, 0.84406465, 0.84534544,\n",
      "       0.9230445 , 0.8230215 , 0.8768077 , 0.9593295 , 0.99386585,\n",
      "       0.9441825 , 0.8631828 , 0.9585557 , 0.8240334 ], dtype=float32), array([0.6897318 , 0.8777994 , 0.9351867 , 0.94111764, 0.96496075,\n",
      "       0.8793044 , 0.9762067 , 0.9631568 , 0.9068527 , 0.9438276 ,\n",
      "       0.957818  , 0.93748826, 0.94715554, 0.86207867, 0.89769435,\n",
      "       0.85250753, 0.65292233, 0.80108446, 0.9585836 , 0.94014925,\n",
      "       0.9436383 , 0.8891136 , 0.71062255, 0.895179  ], dtype=float32), array([0.5618555 , 0.51064676, 0.78975534, 0.94377977, 0.7943416 ,\n",
      "       0.70874137, 0.5333323 , 0.52819693, 0.63036805, 0.8817892 ,\n",
      "       0.8689436 , 0.8586216 , 0.9579076 , 0.8439707 , 0.8050313 ,\n",
      "       0.91304886, 0.51457626, 0.8059051 , 0.95913094, 0.9218867 ,\n",
      "       0.50166327, 0.8477782 , 0.71355313, 0.81983817], dtype=float32), array([0.5450276 , 0.46093127, 0.79991657, 0.9419181 , 0.8032308 ,\n",
      "       0.71372116, 0.5231818 , 0.6009277 , 0.7420025 , 0.8887864 ,\n",
      "       0.87094873, 0.8537032 , 0.95929027, 0.8440695 , 0.82290715,\n",
      "       0.9230381 , 0.5080694 , 0.8125572 , 0.9557    , 0.93155956,\n",
      "       0.5293609 , 0.8631828 , 0.7200391 , 0.82400745], dtype=float32), array([0.83175427, 0.9953883 , 0.98462147, 0.9891881 , 0.9916983 ,\n",
      "       0.93587726, 0.9938296 , 0.9627484 , 0.9822085 , 0.9876155 ,\n",
      "       0.9688164 , 0.9968273 , 0.97518736, 0.94441456, 0.9519004 ,\n",
      "       0.9371224 , 0.9324116 , 0.9750635 , 0.98576754, 0.99614173,\n",
      "       0.939748  , 0.96196496, 0.9710175 , 0.98197454], dtype=float32), array([0.9371076 , 0.9839396 , 0.99791634, 0.99915123, 0.98048574,\n",
      "       0.8852747 , 0.5261452 , 0.95146173, 0.9811599 , 0.973853  ,\n",
      "       0.9274794 , 0.9958742 , 0.9761764 , 0.8903792 , 0.849438  ,\n",
      "       0.9866929 , 0.91758853, 0.9778303 , 0.9740203 , 0.99508595,\n",
      "       0.9673695 , 0.87537116, 0.9912853 , 0.83162117], dtype=float32), array([0.5822262 , 0.5786985 , 0.77649444, 0.9346573 , 0.8069402 ,\n",
      "       0.72224534, 0.66817033, 0.4939531 , 0.67651916, 0.88944876,\n",
      "       0.8774268 , 0.870313  , 0.9537646 , 0.84370464, 0.7949583 ,\n",
      "       0.84650224, 0.5528113 , 0.7937511 , 0.9527273 , 0.9255896 ,\n",
      "       0.4702949 , 0.8602641 , 0.69558114, 0.8715412 ], dtype=float32), array([0.9191505 , 0.95834816, 0.97834617, 0.9991913 , 0.9895825 ,\n",
      "       0.91914403, 0.95317525, 0.915583  , 0.980442  , 0.97316474,\n",
      "       0.9641855 , 0.9920425 , 0.984876  , 0.9029885 , 0.92357713,\n",
      "       0.9834434 , 0.93099815, 0.9782923 , 0.9794019 , 0.9964163 ,\n",
      "       0.94684875, 0.9094275 , 0.9808474 , 0.81546336], dtype=float32), array([0.67774427, 0.9277814 , 0.95407   , 0.9990248 , 0.9195034 ,\n",
      "       0.9213992 , 0.9637569 , 0.91140145, 0.8816849 , 0.9783839 ,\n",
      "       0.93940604, 0.98427826, 0.9642625 , 0.84203565, 0.92593426,\n",
      "       0.87989473, 0.86892277, 0.9016844 , 0.94758815, 0.9765378 ,\n",
      "       0.8161753 , 0.9025788 , 0.8156677 , 0.9113454 ], dtype=float32), array([0.51959586, 0.52458847, 0.7649771 , 0.91668385, 0.76542264,\n",
      "       0.7404503 , 0.7490076 , 0.5338931 , 0.6075051 , 0.9026563 ,\n",
      "       0.8919575 , 0.87110454, 0.94088376, 0.82866645, 0.8734132 ,\n",
      "       0.8433252 , 0.53854454, 0.75386214, 0.9370338 , 0.9020123 ,\n",
      "       0.49804923, 0.8925518 , 0.6548152 , 0.86637414], dtype=float32), array([0.54502755, 0.5011754 , 0.81166905, 0.94355565, 0.80216515,\n",
      "       0.7121185 , 0.52306366, 0.79259616, 0.8756523 , 0.91253704,\n",
      "       0.8709564 , 0.8667562 , 0.95994407, 0.8440695 , 0.82431227,\n",
      "       0.9230445 , 0.5092205 , 0.80884224, 0.9596612 , 0.93151075,\n",
      "       0.6735176 , 0.8631853 , 0.71904963, 0.82401425], dtype=float32)], 'Mean': [0.7535196, 0.87026197, 0.88947344, 0.88850754, 0.7589443, 0.76825327, 0.9655537, 0.93219614, 0.7682743, 0.9531223, 0.9087942, 0.76322395, 0.7915685], 'Std': [0.14196804, 0.11242525, 0.11167559, 0.087876126, 0.15522473, 0.15450534, 0.03469196, 0.09769652, 0.1441344, 0.04147666, 0.0686606, 0.14845775, 0.14193508]}\n"
     ]
    }
   ],
   "source": [
    "import cv2\n",
    "import os\n",
    "import numpy as np\n",
    "import pprint as pp\n",
    "import pandas as pd\n",
    "import matplotlib.pyplot as plt\n",
    "\n",
    "#####PATHS#####\n",
    "data_path = \"/Users/shirleychen/Documents/Fall2022/CS229/dataset2/model/Masked/data/\"\n",
    "###############\n",
    "\n",
    "Dice_dict = {\"Name\":[],\"Data\":[],\"Mean\":[],\"Std\":[]}\n",
    "\n",
    "for i, filename in enumerate(os.listdir(data_path)):\n",
    "    if not filename.startswith('.'):\n",
    "        data = np.load(os.path.join(data_path, filename))\n",
    "        Dice_dict[\"Name\"].append(filename)\n",
    "        Dice_dict[\"Data\"].append(data)\n",
    "        Dice_dict[\"Mean\"].append(np.mean(data))\n",
    "        Dice_dict[\"Std\"].append(np.std(data))\n",
    "\n",
    "print(Dice_dict)"
   ]
  },
  {
   "cell_type": "code",
   "execution_count": 2,
   "id": "c0cd235f",
   "metadata": {},
   "outputs": [
    {
     "name": "stdout",
     "output_type": "stream",
     "text": [
      "0.7535196\n",
      "0.87026197\n",
      "0.88947344\n",
      "0.88850754\n",
      "0.7589443\n",
      "0.76825327\n",
      "0.9655537\n",
      "0.93219614\n",
      "0.7682743\n",
      "0.9531223\n",
      "0.9087942\n",
      "0.76322395\n",
      "0.7915685\n"
     ]
    }
   ],
   "source": [
    "Means = Dice_dict[\"Mean\"]\n",
    "for i in Means:\n",
    "    print(i)"
   ]
  },
  {
   "cell_type": "code",
   "execution_count": 25,
   "id": "d960edea",
   "metadata": {},
   "outputs": [
    {
     "data": {
      "image/png": "[encoded data removed]",
      "text/plain": [
       "<Figure size 720x432 with 1 Axes>"
      ]
     },
     "metadata": {
      "needs_background": "light"
     },
     "output_type": "display_data"
    }
   ],
   "source": [
    "plt.style.use('paper_1column.mplstyle')\n",
    "labels = ['Dead Pixels \\n Gaussian', 'Saturated Pixels \\n Gaussian', 'Dead Pixels \\n Lines', 'Saturated Pixels \\n Lines']\n",
    "low_means = [0.93219614, 0.88947344, 0.9655537, 0.9087942]\n",
    "med_means = [0.87026197, 0.76825327, 0.88850754, 0.76322395]\n",
    "high_means = [0.7915685, 0.7589443, 0.7682743, 0.7535196]\n",
    "\n",
    "x = np.arange(len(labels))  # the label locations\n",
    "width = 0.2  # the width of the bars\n",
    "\n",
    "fig, ax = plt.subplots(figsize=(10,6))\n",
    "rects1 = ax.bar(x - width, low_means, width, label='Low')\n",
    "rects2 = ax.bar(x, med_means, width, label='Medium')\n",
    "rects3 = ax.bar(x + width, high_means, width, label='High')\n",
    "\n",
    "# Add some text for labels, title and custom x-axis tick labels, etc.\n",
    "ax.set_ylabel('Dice coefficient', fontsize=20)\n",
    "ax.set_xticks(x, labels, fontsize=20)\n",
    "ax.legend(loc='upper center', bbox_to_anchor=(0.5, 1.16),\n",
    "          ncol=3, fancybox=True, shadow=True)\n",
    "\n",
    "# ax.bar_label(rects1, padding=3)\n",
    "# ax.bar_label(rects2, padding=3)\n",
    "# ax.bar_label(rects3, padding=3)\n",
    "\n",
    "fig.tight_layout()\n",
    "\n",
    "plt.show()"
   ]
  },
  {
   "cell_type": "code",
   "execution_count": null,
   "id": "143a58b9",
   "metadata": {},
   "outputs": [],
   "source": []
  }
 ],
 "metadata": {
  "kernelspec": {
   "display_name": "Python 3 (ipykernel)",
   "language": "python",
   "name": "python3"
  },
  "language_info": {
   "codemirror_mode": {
    "name": "ipython",
    "version": 3
   },
   "file_extension": ".py",
   "mimetype": "text/x-python",
   "name": "python",
   "nbconvert_exporter": "python",
   "pygments_lexer": "ipython3",
   "version": "3.9.12"
  }
 },
 "nbformat": 4,
 "nbformat_minor": 5
}
